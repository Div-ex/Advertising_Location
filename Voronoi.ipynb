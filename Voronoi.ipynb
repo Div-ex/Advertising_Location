{
  "nbformat": 4,
  "nbformat_minor": 0,
  "metadata": {
    "colab": {
      "provenance": [],
      "mount_file_id": "1nV_gWiwI5abk5HYc3phlwZNQ4ChntMxm",
      "authorship_tag": "ABX9TyO7yVP39SwMRknBY17Ra9LO",
      "include_colab_link": true
    },
    "kernelspec": {
      "name": "python3",
      "display_name": "Python 3"
    },
    "language_info": {
      "name": "python"
    }
  },
  "cells": [
    {
      "cell_type": "markdown",
      "metadata": {
        "id": "view-in-github",
        "colab_type": "text"
      },
      "source": [
        "<a href=\"https://colab.research.google.com/github/Div-ex/Advertising_Location/blob/main/Voronoi.ipynb\" target=\"_parent\"><img src=\"https://colab.research.google.com/assets/colab-badge.svg\" alt=\"Open In Colab\"/></a>"
      ]
    },
    {
      "cell_type": "code",
      "source": [
        "import numpy as np\n",
        "import csv\n",
        "from google.colab import drive\n",
        "drive.mount('/content/drive')\n",
        "import numpy as np\n",
        "import matplotlib.pyplot as plt\n",
        "from scipy.spatial import Voronoi"
      ],
      "metadata": {
        "colab": {
          "base_uri": "https://localhost:8080/"
        },
        "id": "rnmaXjDBPMnL",
        "outputId": "78d52edc-bdcc-4663-d16a-8137447034ae"
      },
      "execution_count": null,
      "outputs": [
        {
          "output_type": "stream",
          "name": "stdout",
          "text": [
            "Drive already mounted at /content/drive; to attempt to forcibly remount, call drive.mount(\"/content/drive\", force_remount=True).\n"
          ]
        }
      ]
    },
    {
      "cell_type": "code",
      "source": [
        "with open('/content/drive/MyDrive/world_country_and_usa_states_latitude_and_longitude_values.csv', 'r') as f:\n",
        "    reader = csv.reader(f)\n",
        "    data = list(reader)\n",
        "# print(data)\n",
        "\n",
        "\n",
        "with open(\"/content/drive/MyDrive/world_country_and_usa_states_latitude_and_longitude_values.csv\", \"r\") as source:\n",
        "    reader = csv.reader(source)\n",
        "\n",
        "    with open(\"/content/drive/MyDrive/world_country_and_usa_states_latitude_and_longitude_values_numeric.csv\", \"w\") as result:\n",
        "        writer = csv.writer(result)\n",
        "        for r in reader:\n",
        "            # Use CSV Index to remove a column from CSV\n",
        "            #r[3] = r['year']\n",
        "            writer.writerow((r[1], r[2]))\n",
        "\n",
        "with open('/content/drive/MyDrive/world_country_and_usa_states_latitude_and_longitude_values_numeric.csv', 'r') as f:\n",
        "    reader = csv.reader(f)\n",
        "    data = list(reader)\n",
        "\n",
        "for row in data:\n",
        "    first_val = row[0]\n",
        "    try:\n",
        "        float(first_val)\n",
        "    except ValueError:\n",
        "        data.pop(data.index(row))\n",
        "\n",
        "data.pop(0)\n",
        "# print(data)\n",
        "data_array = np.array(data, dtype=float)"
      ],
      "metadata": {
        "id": "E-ltkP0I5PBx"
      },
      "execution_count": 6,
      "outputs": []
    },
    {
      "cell_type": "code",
      "source": [
        "\n",
        "\n",
        "def voronoi_finite_polygons_2d(vor, radius=None):\n",
        "    \"\"\"\n",
        "    Reconstruct infinite voronoi regions in a 2D diagram to finite\n",
        "    regions.\n",
        "\n",
        "    Parameters\n",
        "    ----------\n",
        "    vor : Voronoi\n",
        "        Input diagram\n",
        "    radius : float, optional\n",
        "        Distance to 'points at infinity'.\n",
        "\n",
        "    Returns\n",
        "    -------\n",
        "    regions : list of tuples\n",
        "        Indices of vertices in each revised Voronoi regions.\n",
        "    vertices : list of tuples\n",
        "        Coordinates for revised Voronoi vertices. Same as coordinates\n",
        "        of input vertices, with 'points at infinity' appended to the\n",
        "        end.\n",
        "\n",
        "    \"\"\"\n",
        "\n",
        "    if vor.points.shape[1] != 2:\n",
        "        raise ValueError(\"Requires 2D input\")\n",
        "\n",
        "    new_regions = []\n",
        "    new_vertices = vor.vertices.tolist()\n",
        "\n",
        "    center = vor.points.mean(axis=0)\n",
        "    if radius is None:\n",
        "        radius = vor.points.ptp().max()\n",
        "\n",
        "    # Construct a map containing all ridges for a given point\n",
        "    all_ridges = {}\n",
        "    for (p1, p2), (v1, v2) in zip(vor.ridge_points, vor.ridge_vertices):\n",
        "        all_ridges.setdefault(p1, []).append((p2, v1, v2))\n",
        "        all_ridges.setdefault(p2, []).append((p1, v1, v2))\n",
        "\n",
        "    # Reconstruct infinite regions\n",
        "    for p1, region in enumerate(vor.point_region):\n",
        "        vertices = vor.regions[region]\n",
        "\n",
        "        if all(v >= 0 for v in vertices):\n",
        "            # finite region\n",
        "            new_regions.append(vertices)\n",
        "            continue\n",
        "\n",
        "        # reconstruct a non-finite region\n",
        "        ridges = all_ridges[p1]\n",
        "        new_region = [v for v in vertices if v >= 0]\n",
        "\n",
        "        for p2, v1, v2 in ridges:\n",
        "            if v2 < 0:\n",
        "                v1, v2 = v2, v1\n",
        "            if v1 >= 0:\n",
        "                # finite ridge: already in the region\n",
        "                continue\n",
        "\n",
        "            # Compute the missing endpoint of an infinite ridge\n",
        "\n",
        "            t = vor.points[p2] - vor.points[p1] # tangent\n",
        "            t /= np.linalg.norm(t)\n",
        "            n = np.array([-t[1], t[0]])  # normal\n",
        "\n",
        "            midpoint = vor.points[[p1, p2]].mean(axis=0)\n",
        "            direction = np.sign(np.dot(midpoint - center, n)) * n\n",
        "            far_point = vor.vertices[v2] + direction * radius\n",
        "\n",
        "            new_region.append(len(new_vertices))\n",
        "            new_vertices.append(far_point.tolist())\n",
        "\n",
        "        # sort region counterclockwise\n",
        "        vs = np.asarray([new_vertices[v] for v in new_region])\n",
        "        c = vs.mean(axis=0)\n",
        "        angles = np.arctan2(vs[:,1] - c[1], vs[:,0] - c[0])\n",
        "        new_region = np.array(new_region)[np.argsort(angles)]\n",
        "\n",
        "        # finish\n",
        "        new_regions.append(new_region.tolist())\n",
        "\n",
        "    return new_regions, np.asarray(new_vertices)\n",
        "\n",
        "# # make up data points\n",
        "# np.random.seed(1234)\n",
        "# points = np.random.rand(14, 2)\n",
        "\n",
        "points = data_array[:10]\n",
        "# points.sort(axis = 1)\n",
        "# points = points[0:10]\n",
        "\n",
        "# compute Voronoi tesselation\n",
        "vor = Voronoi(points)\n",
        "\n",
        "# plot\n",
        "regions, vertices = voronoi_finite_polygons_2d(vor)\n",
        "print (\"--\")\n",
        "print (regions)\n",
        "print (\"--\")\n",
        "print (vertices)\n",
        "\n",
        "# colorize\n",
        "for region in regions:\n",
        "    polygon = vertices[region]\n",
        "    plt.fill(*zip(*polygon), alpha=0.4)\n",
        "\n",
        "plt.plot(points[:,0], points[:,1], 'ko')\n",
        "plt.xlim(vor.min_bound[0] - 0.1, vor.max_bound[0] + 0.1)\n",
        "plt.ylim(vor.min_bound[1] - 0.1, vor.max_bound[1] + 0.1)\n",
        "\n",
        "plt.show()\n",
        "# print(points)"
      ],
      "metadata": {
        "colab": {
          "base_uri": "https://localhost:8080/",
          "height": 950
        },
        "id": "2wgn3ped268F",
        "outputId": "de05a3d9-310e-489f-d0cb-bd47dbfa416e"
      },
      "execution_count": null,
      "outputs": [
        {
          "output_type": "stream",
          "name": "stdout",
          "text": [
            "--\n",
            "[[10, 5, 6, 4, 9], [10, 12, 11, 5], [8, 2, 3, 1, 7], [13, 14, 7, 8], [1, 7, 16, 15, 9, 4], [9, 17, 18, 10], [19, 20, 8, 2], [6, 0, 3, 1, 4], [21, 0, 6, 5, 22], [23, 24, 2, 3, 0]]\n",
            "--\n",
            "[[ -35.30686736  -19.36580874]\n",
            " [  16.55941869  -17.12582212]\n",
            " [ -11.15168138  -48.25885789]\n",
            " [ -11.84258769  -27.20159921]\n",
            " [  14.59523863   27.69403782]\n",
            " [ -96.19126117  155.50039177]\n",
            " [ -71.78945098  110.8437666 ]\n",
            " [  54.95890456  -28.41287084]\n",
            " [  14.47642837  -65.31708852]\n",
            " [  22.41401795   31.80993009]\n",
            " [  35.14957065   55.87264235]\n",
            " [-171.59011844  276.9616559 ]\n",
            " [ 173.15500426   93.18653596]\n",
            " [ 115.53973832 -166.43105266]\n",
            " [ 192.78454307  -66.38548904]\n",
            " [ 165.23927906   38.03657849]\n",
            " [ 192.78454307  -66.38548904]\n",
            " [ 165.23927906   38.03657849]\n",
            " [ 173.15500426   93.18653596]\n",
            " [ -26.43022595 -190.40101363]\n",
            " [ 115.53973832 -166.43105266]\n",
            " [-158.99059059  -91.06073861]\n",
            " [-171.59011844  276.9616559 ]\n",
            " [-158.99059059  -91.06073861]\n",
            " [ -26.43022595 -190.40101363]]\n"
          ]
        },
        {
          "output_type": "display_data",
          "data": {
            "text/plain": [
              "<Figure size 640x480 with 1 Axes>"
            ],
            "image/png": "[encoded data removed]"
          },
          "metadata": {}
        }
      ]
    }
  ]
}